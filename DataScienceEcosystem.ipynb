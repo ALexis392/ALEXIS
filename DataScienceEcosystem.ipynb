{
  "nbformat": 4,
  "nbformat_minor": 0,
  "metadata": {
    "colab": {
      "provenance": []
    },
    "kernelspec": {
      "name": "python3",
      "display_name": "Python 3"
    },
    "language_info": {
      "name": "python"
    }
  },
  "cells": [
    {
      "cell_type": "markdown",
      "source": [
        "# Data Science Tools and Ecosystem"
      ],
      "metadata": {
        "id": "12hPKGUMkxkR"
      }
    },
    {
      "cell_type": "markdown",
      "source": [
        "In this notebook, Data Science Tools and Ecosystem are summarized"
      ],
      "metadata": {
        "id": "GWKDd6eIlCaK"
      }
    },
    {
      "cell_type": "markdown",
      "source": [
        "Some of the popular languages that Data Scientists use are:\n",
        "\n",
        "1.   Python\n",
        "1.   R\n",
        "3.   Julia\n",
        "4.   Scala\n"
      ],
      "metadata": {
        "id": "trOfK33qlMve"
      }
    },
    {
      "cell_type": "markdown",
      "source": [
        "Some of the commonly used libraries used by Data Scientists include:\n",
        "\n",
        "1.   Numpy\n",
        "2.   Pandas\n",
        "3.   matplotlib\n",
        "4.   Seaborn\n",
        "\n",
        "\n"
      ],
      "metadata": {
        "id": "jAuosytVnEhM"
      }
    },
    {
      "cell_type": "code",
      "source": [
        "import pandas as pd\n",
        "\n",
        "# Create a DataFrame with a single column\n",
        "data = {'Data Science Tools': ['Jupyter Notebook', 'RStudio', 'Visual Studio Code']}\n",
        "df = pd.DataFrame(data)\n",
        "\n",
        "# Display the DataFrame\n",
        "print(df)"
      ],
      "metadata": {
        "colab": {
          "base_uri": "https://localhost:8080/"
        },
        "id": "jnZY5WwuokA7",
        "outputId": "815ca15b-2c1c-4902-d66a-5d496725201c"
      },
      "execution_count": 1,
      "outputs": [
        {
          "output_type": "stream",
          "name": "stdout",
          "text": [
            "   Data Science Tools\n",
            "0    Jupyter Notebook\n",
            "1             RStudio\n",
            "2  Visual Studio Code\n"
          ]
        }
      ]
    },
    {
      "cell_type": "markdown",
      "source": [
        "**examples of evaluating arithmetic expressions in Python**"
      ],
      "metadata": {
        "id": "_Sj274wao_16"
      }
    },
    {
      "cell_type": "code",
      "source": [
        "import numpy as np\n",
        "(3*4)+5"
      ],
      "metadata": {
        "colab": {
          "base_uri": "https://localhost:8080/"
        },
        "id": "ioHU3_y4pErn",
        "outputId": "d0636554-a320-4909-ae5e-a0c1f7e09c61"
      },
      "execution_count": 2,
      "outputs": [
        {
          "output_type": "execute_result",
          "data": {
            "text/plain": [
              "17"
            ]
          },
          "metadata": {},
          "execution_count": 2
        }
      ]
    },
    {
      "cell_type": "code",
      "source": [
        "# This will convert 200 minutes to hours by dividing by 60.\n",
        "minutes = 200\n",
        "hours = minutes / 60\n",
        "hours"
      ],
      "metadata": {
        "colab": {
          "base_uri": "https://localhost:8080/"
        },
        "id": "JoH6CcEZpf32",
        "outputId": "880ee7b3-6a92-4d25-f0e3-aadb571a2efb"
      },
      "execution_count": 3,
      "outputs": [
        {
          "output_type": "execute_result",
          "data": {
            "text/plain": [
              "3.3333333333333335"
            ]
          },
          "metadata": {},
          "execution_count": 3
        }
      ]
    },
    {
      "cell_type": "markdown",
      "source": [
        "**Objectives:** ist popular languages for Data Science, R, PYTHON, SCALA, JULIA"
      ],
      "metadata": {
        "id": "uutjl_OMpqkN"
      }
    },
    {
      "cell_type": "markdown",
      "source": [
        "Author: ALEXIS SUCASACA"
      ],
      "metadata": {
        "id": "gWmKIX-Jp6N8"
      }
    }
  ]
}